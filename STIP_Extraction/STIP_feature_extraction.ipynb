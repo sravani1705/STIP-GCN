{
 "cells": [
  {
   "cell_type": "code",
   "execution_count": 7,
   "metadata": {},
   "outputs": [],
   "source": [
    "import os\n",
    "import re"
   ]
  },
  {
   "cell_type": "code",
   "execution_count": 2,
   "metadata": {},
   "outputs": [],
   "source": [
    "action_folder_path = '/home/sravani/stip_code/data/MERL_Shopping'"
   ]
  },
  {
   "cell_type": "code",
   "execution_count": 5,
   "metadata": {},
   "outputs": [],
   "source": [
    "class_folders = os.listdir(action_folder_path)\n",
    "class_folders.sort()"
   ]
  },
  {
   "cell_type": "code",
   "execution_count": 34,
   "metadata": {
    "scrolled": true
   },
   "outputs": [
    {
     "name": "stdout",
     "output_type": "stream",
     "text": [
      "/home/sravani/stip_code/data/MERL_Shopping/class1/41_2_crop_1.avi\n",
      "/home/sravani/stip_code/data/MERL_Shopping/class2/41_2_crop_2.avi\n",
      "/home/sravani/stip_code/data/MERL_Shopping/class3/41_2_crop_3.avi\n",
      "/home/sravani/stip_code/data/MERL_Shopping/class4/41_2_crop_4.avi\n",
      "/home/sravani/stip_code/data/MERL_Shopping/class5/41_2_crop_5.avi\n"
     ]
    }
   ],
   "source": [
    "for class_ in class_folders:\n",
    "    wd = action_folder_path+'/'+class_\n",
    "    videos = [f for f in os.listdir(wd)]# if re.findall('mp4',f)]\n",
    "    videos.sort()\n",
    "    #print(wd)\n",
    "    for i in videos:\n",
    "        one_video = wd+'/'+i\n",
    "        #print(one_video)\n",
    "        to_video = wd+'/'+i[:-4]+'.avi'\n",
    "        #print(to_video)\n",
    "        #!ffmpeg -i $one_video $to_video\n",
    "        #!rm $one_video\n",
    "       "
   ]
  },
  {
   "cell_type": "code",
   "execution_count": null,
   "metadata": {},
   "outputs": [],
   "source": []
  }
 ],
 "metadata": {
  "kernelspec": {
   "display_name": "Python 3",
   "language": "python",
   "name": "python3"
  },
  "language_info": {
   "codemirror_mode": {
    "name": "ipython",
    "version": 3
   },
   "file_extension": ".py",
   "mimetype": "text/x-python",
   "name": "python",
   "nbconvert_exporter": "python",
   "pygments_lexer": "ipython3",
   "version": "3.5.2"
  }
 },
 "nbformat": 4,
 "nbformat_minor": 2
}
